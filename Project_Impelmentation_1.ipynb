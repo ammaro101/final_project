{
 "cells": [
  {
   "cell_type": "markdown",
   "id": "b80b0e90",
   "metadata": {},
   "source": [
    "# 4. Project prototype"
   ]
  },
  {
   "cell_type": "markdown",
   "id": "efb0b5ac",
   "metadata": {},
   "source": [
    "Important note: Whenever I include code other than my own I always include the soruce of the code right above it. If a code snippet doesn't include a reference to a source, you should assume it's done by me."
   ]
  },
  {
   "cell_type": "markdown",
   "id": "8223f61e",
   "metadata": {},
   "source": [
    "## Install Dependencies and import libraries"
   ]
  },
  {
   "cell_type": "code",
   "execution_count": 1,
   "id": "092882df",
   "metadata": {},
   "outputs": [],
   "source": [
    "# pip install pandas numpy yfinance pandas-ta scikit-learn tensorflow"
   ]
  },
  {
   "cell_type": "code",
   "execution_count": 56,
   "id": "a5f18c84",
   "metadata": {},
   "outputs": [],
   "source": [
    "# https://pypi.org/project/yfinance/ (\"\"\" it's an open-source tool that uses Yahoo's publicly available APIs, and is intended for research and educational purposes. \"\"\")\n",
    "# import yfinance, our data source\n",
    "import yfinance as yf\n",
    "\n",
    "# https://pypi.org/project/pandas-ta/ (\"\"\"An easy to use Python 3 Pandas Extension with 130+ Technical Analysis Indicators. Can be called from a Pandas DataFrame or standalone\"\"\")\n",
    "# import pandas-ta\n",
    "import pandas_ta as ta\n",
    "\n",
    "# import pandas and numpy\n",
    "import pandas as pd \n",
    "import numpy as np\n",
    "\n",
    "# import matplotlib for data visualisation\n",
    "import matplotlib.pyplot as plt\n",
    "\n",
    "# import from scikit-learn\n",
    "from sklearn.preprocessing import MinMaxScaler\n",
    "from sklearn.metrics import precision_recall_fscore_support, confusion_matrix, ConfusionMatrixDisplay\n",
    "\n",
    "# import from tensorflow\n",
    "from tensorflow.keras.models import Sequential\n",
    "from tensorflow.keras.layers import SimpleRNN, Dense, LSTM, Input, GRU\n",
    "from tensorflow.keras.utils import to_categorical"
   ]
  },
  {
   "cell_type": "markdown",
   "id": "b0da013a",
   "metadata": {},
   "source": [
    "## Select and download the stocks histroical prices data\n",
    "\n",
    "For this prototype we will consider the following stocks from the S&P500 index.\n",
    "we will take 5 random stocks from the S&P500 index list.\n",
    "<br>\n",
    "Ranks are as of June 6, 2024 from https://www.slickcharts.com/sp500[9]\n",
    "- Rank 48 Pfizer Inc. 'PFE'\n",
    "- Rank 150 Roper Technologies, Inc. 'ROP'\n",
    "- Rank 251 Xylem Inc 'XYL'\n",
    "- Rank 350 Corpay, Inc. 'CPAY'\n",
    "- Rank 450 Incyte Genomics Inc 'INCY'"
   ]
  },
  {
   "cell_type": "code",
   "execution_count": 3,
   "id": "1b479227",
   "metadata": {},
   "outputs": [],
   "source": [
    "# insert the stock symbols into a list\n",
    "symbols_list = ['PFE', 'ROP', 'XYL', 'CPAY', 'INCY']"
   ]
  },
  {
   "cell_type": "markdown",
   "id": "1ef213c0",
   "metadata": {},
   "source": [
    "For now we will download the selected stocks weekly price data for the last 10 years"
   ]
  },
  {
   "cell_type": "code",
   "execution_count": 4,
   "id": "17183786",
   "metadata": {},
   "outputs": [],
   "source": [
    "# we will take the weekly data for the last 10 years\n",
    "# data_weekly = yf.download(symbols_list, period='10y', interval='1wk')"
   ]
  },
  {
   "cell_type": "markdown",
   "id": "5895286c",
   "metadata": {},
   "source": [
    "## Format the data and save it as a CSV file"
   ]
  },
  {
   "cell_type": "markdown",
   "id": "a41e4486",
   "metadata": {},
   "source": [
    "Reshape the dataframe so it has the ticker as a second index"
   ]
  },
  {
   "cell_type": "code",
   "execution_count": 5,
   "id": "8ae18c81",
   "metadata": {},
   "outputs": [],
   "source": [
    "# source of inspiration: https://pandas.pydata.org/docs/reference/api/pandas.DataFrame.stack.html[10]\n",
    "# Return a reshaped DataFrame having a multi-level inde\n",
    "# stacked_data_weekly = data_weekly.stack()\n",
    "# stacked_data_weekly"
   ]
  },
  {
   "cell_type": "markdown",
   "id": "6845ba86",
   "metadata": {},
   "source": [
    "#### What are we looking at?\n",
    "Date: one of the indexes and is the date in which the information on the reset of the columns takes place.\n",
    "<br>\n",
    "Ticker: an abbreviation of the company's share listed on the exchanges.\n",
    "<br>\n",
    "Adjusted close: is the closing price after adjustments for all applicable splits and dividend distributions.\n",
    "<br>\n",
    "Close: is the closing price of the stock, on that timeframe, (here it's a week).\n",
    "<br>\n",
    "High: is the highest point a stock has reached in the given timeframe.\n",
    "<br>\n",
    "Low: is the lowest point a stock has reached in the given timeframe.\n",
    "<br>\n",
    "Open: the opening price of the stock on that timeframe.\n",
    "<br>\n",
    "Volume: the volume of stocks were traded on that timeframe.\n",
    "\n",
    "<br>\n",
    "\n",
    "Usually for this type of models we would only keep either Adjusted close or close but we will leave theme both for now."
   ]
  },
  {
   "cell_type": "markdown",
   "id": "4d05d43b",
   "metadata": {},
   "source": [
    "Save the data to a CSV so we don't have to make any extra unnecessary requests to the API every time we reload the notebook"
   ]
  },
  {
   "cell_type": "code",
   "execution_count": 6,
   "id": "60b2ee8e",
   "metadata": {},
   "outputs": [],
   "source": [
    "# save the dataframe to a csv file\n",
    "# stacked_data_weekly.to_csv('stacked_data_weekly_1.csv', index=True)\n",
    "\n",
    "# load the the dataframe from the csv file\n",
    "df = pd.read_csv('stacked_data_weekly_1.csv').set_index([\"Date\", \"Ticker\"])"
   ]
  },
  {
   "cell_type": "code",
   "execution_count": 7,
   "id": "f6ef32b6",
   "metadata": {},
   "outputs": [],
   "source": [
    "# df.head(5)"
   ]
  },
  {
   "cell_type": "markdown",
   "id": "13272334",
   "metadata": {},
   "source": [
    "## Perform simple exploritory data analysis"
   ]
  },
  {
   "cell_type": "code",
   "execution_count": 8,
   "id": "837cfda0",
   "metadata": {},
   "outputs": [
    {
     "data": {
      "text/plain": [
       "Adj Close    0\n",
       "Close        0\n",
       "High         0\n",
       "Low          0\n",
       "Open         0\n",
       "Volume       0\n",
       "dtype: int64"
      ]
     },
     "execution_count": 8,
     "metadata": {},
     "output_type": "execute_result"
    }
   ],
   "source": [
    "# how many null values in each column\n",
    "df.isnull().sum()"
   ]
  },
  {
   "cell_type": "code",
   "execution_count": 9,
   "id": "311249a7",
   "metadata": {},
   "outputs": [
    {
     "data": {
      "text/plain": [
       "(2615, 6)"
      ]
     },
     "execution_count": 9,
     "metadata": {},
     "output_type": "execute_result"
    }
   ],
   "source": [
    "# the data shape\n",
    "df.shape"
   ]
  },
  {
   "cell_type": "code",
   "execution_count": 10,
   "id": "b95af10b",
   "metadata": {},
   "outputs": [
    {
     "data": {
      "text/html": [
       "<div>\n",
       "<style scoped>\n",
       "    .dataframe tbody tr th:only-of-type {\n",
       "        vertical-align: middle;\n",
       "    }\n",
       "\n",
       "    .dataframe tbody tr th {\n",
       "        vertical-align: top;\n",
       "    }\n",
       "\n",
       "    .dataframe thead th {\n",
       "        text-align: right;\n",
       "    }\n",
       "</style>\n",
       "<table border=\"1\" class=\"dataframe\">\n",
       "  <thead>\n",
       "    <tr style=\"text-align: right;\">\n",
       "      <th></th>\n",
       "      <th>Adj Close</th>\n",
       "      <th>Close</th>\n",
       "      <th>High</th>\n",
       "      <th>Low</th>\n",
       "      <th>Open</th>\n",
       "      <th>Volume</th>\n",
       "    </tr>\n",
       "  </thead>\n",
       "  <tbody>\n",
       "    <tr>\n",
       "      <th>count</th>\n",
       "      <td>2615.000000</td>\n",
       "      <td>2615.000000</td>\n",
       "      <td>2615.000000</td>\n",
       "      <td>2615.000000</td>\n",
       "      <td>2615.000000</td>\n",
       "      <td>2.615000e+03</td>\n",
       "    </tr>\n",
       "    <tr>\n",
       "      <th>mean</th>\n",
       "      <td>144.165301</td>\n",
       "      <td>147.598917</td>\n",
       "      <td>151.117521</td>\n",
       "      <td>143.524492</td>\n",
       "      <td>147.284862</td>\n",
       "      <td>3.118655e+07</td>\n",
       "    </tr>\n",
       "    <tr>\n",
       "      <th>std</th>\n",
       "      <td>125.341165</td>\n",
       "      <td>125.626836</td>\n",
       "      <td>127.977518</td>\n",
       "      <td>122.748919</td>\n",
       "      <td>125.314164</td>\n",
       "      <td>5.983749e+07</td>\n",
       "    </tr>\n",
       "    <tr>\n",
       "      <th>min</th>\n",
       "      <td>18.176517</td>\n",
       "      <td>25.400000</td>\n",
       "      <td>26.170000</td>\n",
       "      <td>25.200001</td>\n",
       "      <td>25.580000</td>\n",
       "      <td>3.771000e+05</td>\n",
       "    </tr>\n",
       "    <tr>\n",
       "      <th>25%</th>\n",
       "      <td>47.719940</td>\n",
       "      <td>51.580000</td>\n",
       "      <td>52.844999</td>\n",
       "      <td>50.285000</td>\n",
       "      <td>51.695000</td>\n",
       "      <td>2.756700e+06</td>\n",
       "    </tr>\n",
       "    <tr>\n",
       "      <th>50%</th>\n",
       "      <td>94.846069</td>\n",
       "      <td>95.919998</td>\n",
       "      <td>99.419998</td>\n",
       "      <td>92.790001</td>\n",
       "      <td>96.489998</td>\n",
       "      <td>4.932200e+06</td>\n",
       "    </tr>\n",
       "    <tr>\n",
       "      <th>75%</th>\n",
       "      <td>208.165001</td>\n",
       "      <td>209.534996</td>\n",
       "      <td>215.550003</td>\n",
       "      <td>203.775002</td>\n",
       "      <td>209.764999</td>\n",
       "      <td>9.492550e+06</td>\n",
       "    </tr>\n",
       "    <tr>\n",
       "      <th>max</th>\n",
       "      <td>570.140015</td>\n",
       "      <td>570.140015</td>\n",
       "      <td>574.289978</td>\n",
       "      <td>556.640015</td>\n",
       "      <td>567.109985</td>\n",
       "      <td>6.333997e+08</td>\n",
       "    </tr>\n",
       "  </tbody>\n",
       "</table>\n",
       "</div>"
      ],
      "text/plain": [
       "         Adj Close        Close         High          Low         Open  \\\n",
       "count  2615.000000  2615.000000  2615.000000  2615.000000  2615.000000   \n",
       "mean    144.165301   147.598917   151.117521   143.524492   147.284862   \n",
       "std     125.341165   125.626836   127.977518   122.748919   125.314164   \n",
       "min      18.176517    25.400000    26.170000    25.200001    25.580000   \n",
       "25%      47.719940    51.580000    52.844999    50.285000    51.695000   \n",
       "50%      94.846069    95.919998    99.419998    92.790001    96.489998   \n",
       "75%     208.165001   209.534996   215.550003   203.775002   209.764999   \n",
       "max     570.140015   570.140015   574.289978   556.640015   567.109985   \n",
       "\n",
       "             Volume  \n",
       "count  2.615000e+03  \n",
       "mean   3.118655e+07  \n",
       "std    5.983749e+07  \n",
       "min    3.771000e+05  \n",
       "25%    2.756700e+06  \n",
       "50%    4.932200e+06  \n",
       "75%    9.492550e+06  \n",
       "max    6.333997e+08  "
      ]
     },
     "execution_count": 10,
     "metadata": {},
     "output_type": "execute_result"
    }
   ],
   "source": [
    "# data basic stats\n",
    "df.describe()"
   ]
  },
  {
   "cell_type": "markdown",
   "id": "21ff1d1e",
   "metadata": {},
   "source": [
    "## Devide the data into five dataframes, one for each stock"
   ]
  },
  {
   "cell_type": "code",
   "execution_count": 11,
   "id": "a4ddda41",
   "metadata": {},
   "outputs": [
    {
     "data": {
      "text/html": [
       "<div>\n",
       "<style scoped>\n",
       "    .dataframe tbody tr th:only-of-type {\n",
       "        vertical-align: middle;\n",
       "    }\n",
       "\n",
       "    .dataframe tbody tr th {\n",
       "        vertical-align: top;\n",
       "    }\n",
       "\n",
       "    .dataframe thead th {\n",
       "        text-align: right;\n",
       "    }\n",
       "</style>\n",
       "<table border=\"1\" class=\"dataframe\">\n",
       "  <thead>\n",
       "    <tr style=\"text-align: right;\">\n",
       "      <th></th>\n",
       "      <th>Adj Close</th>\n",
       "      <th>Close</th>\n",
       "      <th>High</th>\n",
       "      <th>Low</th>\n",
       "      <th>Open</th>\n",
       "      <th>Volume</th>\n",
       "    </tr>\n",
       "    <tr>\n",
       "      <th>Date</th>\n",
       "      <th></th>\n",
       "      <th></th>\n",
       "      <th></th>\n",
       "      <th></th>\n",
       "      <th></th>\n",
       "      <th></th>\n",
       "    </tr>\n",
       "  </thead>\n",
       "  <tbody>\n",
       "    <tr>\n",
       "      <th>2014-07-14</th>\n",
       "      <td>19.895063</td>\n",
       "      <td>29.155598</td>\n",
       "      <td>29.174574</td>\n",
       "      <td>28.785580</td>\n",
       "      <td>28.965843</td>\n",
       "      <td>25720973</td>\n",
       "    </tr>\n",
       "    <tr>\n",
       "      <th>2014-07-21</th>\n",
       "      <td>19.545464</td>\n",
       "      <td>28.643265</td>\n",
       "      <td>29.136621</td>\n",
       "      <td>28.538898</td>\n",
       "      <td>28.870968</td>\n",
       "      <td>96927527</td>\n",
       "    </tr>\n",
       "    <tr>\n",
       "      <th>2014-07-28</th>\n",
       "      <td>18.684397</td>\n",
       "      <td>27.381405</td>\n",
       "      <td>28.927895</td>\n",
       "      <td>27.220114</td>\n",
       "      <td>28.263758</td>\n",
       "      <td>178002365</td>\n",
       "    </tr>\n",
       "    <tr>\n",
       "      <th>2014-08-04</th>\n",
       "      <td>18.509615</td>\n",
       "      <td>26.888046</td>\n",
       "      <td>27.476280</td>\n",
       "      <td>26.442125</td>\n",
       "      <td>27.466793</td>\n",
       "      <td>143172198</td>\n",
       "    </tr>\n",
       "    <tr>\n",
       "      <th>2014-08-11</th>\n",
       "      <td>18.705553</td>\n",
       "      <td>27.172676</td>\n",
       "      <td>27.419355</td>\n",
       "      <td>26.593927</td>\n",
       "      <td>27.068312</td>\n",
       "      <td>107166188</td>\n",
       "    </tr>\n",
       "  </tbody>\n",
       "</table>\n",
       "</div>"
      ],
      "text/plain": [
       "            Adj Close      Close       High        Low       Open     Volume\n",
       "Date                                                                        \n",
       "2014-07-14  19.895063  29.155598  29.174574  28.785580  28.965843   25720973\n",
       "2014-07-21  19.545464  28.643265  29.136621  28.538898  28.870968   96927527\n",
       "2014-07-28  18.684397  27.381405  28.927895  27.220114  28.263758  178002365\n",
       "2014-08-04  18.509615  26.888046  27.476280  26.442125  27.466793  143172198\n",
       "2014-08-11  18.705553  27.172676  27.419355  26.593927  27.068312  107166188"
      ]
     },
     "execution_count": 11,
     "metadata": {},
     "output_type": "execute_result"
    }
   ],
   "source": [
    "# source of inspiration https://pandas.pydata.org/docs/reference/api/pandas.DataFrame.xs.html [11]\n",
    "# select specific stock data at the 'Ticker' level of this multi index dataframe\n",
    "df1 = df.xs('PFE', axis=0, level='Ticker', drop_level=True)\n",
    "df2 = df.xs('ROP', axis=0, level='Ticker', drop_level=True)\n",
    "df3 = df.xs('XYL', axis=0, level='Ticker', drop_level=True)\n",
    "df4 = df.xs('CPAY', axis=0, level='Ticker', drop_level=True)\n",
    "df5 = df.xs('INCY', axis=0, level='Ticker', drop_level=True)\n",
    "\n",
    "# disply the first dataframe\n",
    "df1.head(5)"
   ]
  },
  {
   "cell_type": "code",
   "execution_count": 12,
   "id": "b75e32ca",
   "metadata": {},
   "outputs": [
    {
     "data": {
      "text/plain": [
       "(523, 6)"
      ]
     },
     "execution_count": 12,
     "metadata": {},
     "output_type": "execute_result"
    }
   ],
   "source": [
    "# show the new df shape\n",
    "df1.shape"
   ]
  },
  {
   "cell_type": "markdown",
   "id": "356c08a0",
   "metadata": {},
   "source": [
    "## Create the target of the model"
   ]
  },
  {
   "cell_type": "markdown",
   "id": "6fc1cdd5",
   "metadata": {},
   "source": [
    "Now after this point in the prototype we will only work with df1 which includes the historical stock prices data for the last 10 years for Pfizer Inc. or 'PFE'. This is so we don't make the this prototype too lengthy. However you can easily tell that it's going to be the exact same steps we can follow to train the model on any of the other 4 stocks dataframes. For the final project report we will include at least 5 different stocks data to make sure that our model generalises well."
   ]
  },
  {
   "cell_type": "markdown",
   "id": "80d60356",
   "metadata": {},
   "source": [
    "We are going to try and predict the stock trend based on its past data, that is we will try to predict if the stock price will go up or down, if we know the stock price will go up in the future, we can buy it now and sell it for a profit if the model estimation were correct. also if we know the stock will go down in the future, we can sell it (or short it) now, so our assets won't depreciate in value. "
   ]
  },
  {
   "cell_type": "markdown",
   "id": "4e078da4",
   "metadata": {},
   "source": [
    "To do that we will create 2 new columns: \n",
    "- 'Next' column where the values for this column will be equal to the next closing price. This is will be the target for the regression model.\n",
    "- 'trend' column where the values for this column will be either 1 or 0 depending on whether the 'Next' closing price will be higher than the closing price. This will be the target for the classification model, which what we will be using in this prototype."
   ]
  },
  {
   "cell_type": "code",
   "execution_count": 13,
   "id": "11d336c1",
   "metadata": {},
   "outputs": [],
   "source": [
    "# copy the dateframe before modification so we don't get a warning from jupyter notebook\n",
    "df1 = df1.copy()\n",
    "\n",
    "# create the 'Next' column to be equal to the next closing price\n",
    "# this can be accomplished easily by shifting the close column backward by 1\n",
    "df1[\"Next\"] = df1['Close'].shift(-1)"
   ]
  },
  {
   "cell_type": "code",
   "execution_count": 14,
   "id": "796e145c",
   "metadata": {},
   "outputs": [],
   "source": [
    "# create a function that returns 1 if the the next closing price is higher than current closing price and 0 otherwise.\n",
    "def assign_trend(row):\n",
    "    if row['Next'] > row['Close']:\n",
    "        return 1\n",
    "    elif row['Next'] < row['Close']:\n",
    "        return 0\n",
    "    else: # if the next value is missing then return NaN\n",
    "        return np.nan\n",
    "\n",
    "\n",
    "# create the 'Trend' column to be equal to the output of the 'assign_trend' function    \n",
    "df1['Trend'] = df1.apply(assign_trend, axis=1)"
   ]
  },
  {
   "cell_type": "code",
   "execution_count": 15,
   "id": "c403d6c9",
   "metadata": {
    "scrolled": true
   },
   "outputs": [
    {
     "data": {
      "text/html": [
       "<div>\n",
       "<style scoped>\n",
       "    .dataframe tbody tr th:only-of-type {\n",
       "        vertical-align: middle;\n",
       "    }\n",
       "\n",
       "    .dataframe tbody tr th {\n",
       "        vertical-align: top;\n",
       "    }\n",
       "\n",
       "    .dataframe thead th {\n",
       "        text-align: right;\n",
       "    }\n",
       "</style>\n",
       "<table border=\"1\" class=\"dataframe\">\n",
       "  <thead>\n",
       "    <tr style=\"text-align: right;\">\n",
       "      <th></th>\n",
       "      <th>Adj Close</th>\n",
       "      <th>Close</th>\n",
       "      <th>High</th>\n",
       "      <th>Low</th>\n",
       "      <th>Open</th>\n",
       "      <th>Volume</th>\n",
       "      <th>Next</th>\n",
       "      <th>Trend</th>\n",
       "    </tr>\n",
       "    <tr>\n",
       "      <th>Date</th>\n",
       "      <th></th>\n",
       "      <th></th>\n",
       "      <th></th>\n",
       "      <th></th>\n",
       "      <th></th>\n",
       "      <th></th>\n",
       "      <th></th>\n",
       "      <th></th>\n",
       "    </tr>\n",
       "  </thead>\n",
       "  <tbody>\n",
       "    <tr>\n",
       "      <th>2014-07-14</th>\n",
       "      <td>19.895063</td>\n",
       "      <td>29.155598</td>\n",
       "      <td>29.174574</td>\n",
       "      <td>28.785580</td>\n",
       "      <td>28.965843</td>\n",
       "      <td>25720973</td>\n",
       "      <td>28.643265</td>\n",
       "      <td>0.0</td>\n",
       "    </tr>\n",
       "    <tr>\n",
       "      <th>2014-07-21</th>\n",
       "      <td>19.545464</td>\n",
       "      <td>28.643265</td>\n",
       "      <td>29.136621</td>\n",
       "      <td>28.538898</td>\n",
       "      <td>28.870968</td>\n",
       "      <td>96927527</td>\n",
       "      <td>27.381405</td>\n",
       "      <td>0.0</td>\n",
       "    </tr>\n",
       "    <tr>\n",
       "      <th>2014-07-28</th>\n",
       "      <td>18.684397</td>\n",
       "      <td>27.381405</td>\n",
       "      <td>28.927895</td>\n",
       "      <td>27.220114</td>\n",
       "      <td>28.263758</td>\n",
       "      <td>178002365</td>\n",
       "      <td>26.888046</td>\n",
       "      <td>0.0</td>\n",
       "    </tr>\n",
       "    <tr>\n",
       "      <th>2014-08-04</th>\n",
       "      <td>18.509615</td>\n",
       "      <td>26.888046</td>\n",
       "      <td>27.476280</td>\n",
       "      <td>26.442125</td>\n",
       "      <td>27.466793</td>\n",
       "      <td>143172198</td>\n",
       "      <td>27.172676</td>\n",
       "      <td>1.0</td>\n",
       "    </tr>\n",
       "    <tr>\n",
       "      <th>2014-08-11</th>\n",
       "      <td>18.705553</td>\n",
       "      <td>27.172676</td>\n",
       "      <td>27.419355</td>\n",
       "      <td>26.593927</td>\n",
       "      <td>27.068312</td>\n",
       "      <td>107166188</td>\n",
       "      <td>27.438330</td>\n",
       "      <td>1.0</td>\n",
       "    </tr>\n",
       "  </tbody>\n",
       "</table>\n",
       "</div>"
      ],
      "text/plain": [
       "            Adj Close      Close       High        Low       Open     Volume  \\\n",
       "Date                                                                           \n",
       "2014-07-14  19.895063  29.155598  29.174574  28.785580  28.965843   25720973   \n",
       "2014-07-21  19.545464  28.643265  29.136621  28.538898  28.870968   96927527   \n",
       "2014-07-28  18.684397  27.381405  28.927895  27.220114  28.263758  178002365   \n",
       "2014-08-04  18.509615  26.888046  27.476280  26.442125  27.466793  143172198   \n",
       "2014-08-11  18.705553  27.172676  27.419355  26.593927  27.068312  107166188   \n",
       "\n",
       "                 Next  Trend  \n",
       "Date                          \n",
       "2014-07-14  28.643265    0.0  \n",
       "2014-07-21  27.381405    0.0  \n",
       "2014-07-28  26.888046    0.0  \n",
       "2014-08-04  27.172676    1.0  \n",
       "2014-08-11  27.438330    1.0  "
      ]
     },
     "execution_count": 15,
     "metadata": {},
     "output_type": "execute_result"
    }
   ],
   "source": [
    "# check out the results\n",
    "df1.head(5)"
   ]
  },
  {
   "cell_type": "markdown",
   "id": "33371448",
   "metadata": {},
   "source": [
    "Check if the data is balanced"
   ]
  },
  {
   "cell_type": "code",
   "execution_count": 16,
   "id": "0c041a1b",
   "metadata": {},
   "outputs": [
    {
     "data": {
      "text/plain": [
       "Trend\n",
       "1.0    269\n",
       "0.0    249\n",
       "Name: count, dtype: int64"
      ]
     },
     "execution_count": 16,
     "metadata": {},
     "output_type": "execute_result"
    }
   ],
   "source": [
    "# let's check the occurance of each value in the Trend column\n",
    "df1['Trend'].value_counts()"
   ]
  },
  {
   "cell_type": "code",
   "execution_count": 17,
   "id": "e8669eb1",
   "metadata": {},
   "outputs": [
    {
     "data": {
      "text/plain": [
       "269"
      ]
     },
     "execution_count": 17,
     "metadata": {},
     "output_type": "execute_result"
    }
   ],
   "source": [
    "df1['Trend'].value_counts()[1]"
   ]
  },
  {
   "cell_type": "code",
   "execution_count": 18,
   "id": "78ef5a51",
   "metadata": {},
   "outputs": [
    {
     "data": {
      "text/plain": [
       "0.51434034416826"
      ]
     },
     "execution_count": 18,
     "metadata": {},
     "output_type": "execute_result"
    }
   ],
   "source": [
    "# percentage of 'trend up' to the whole column\n",
    "df1['Trend'].value_counts()[1]/df1.shape[0]"
   ]
  },
  {
   "cell_type": "markdown",
   "id": "921d5cbb",
   "metadata": {},
   "source": [
    "We notice that the data is very balanced in this dataframe. This is good because it will mean the model will be less prone to overfitting."
   ]
  },
  {
   "cell_type": "markdown",
   "id": "b46e8684",
   "metadata": {},
   "source": [
    "## Create a common sense baseline\n",
    "It's essential to start our model development by setting a common sense baseline, this is important because we need to make sure the model we will create, will atleast match this logical baseline, otherwise we will be better off not relying on the model at all.\n",
    "For this problem, stock prediction, a reasonable assumption is to assume the average person will predict the future trend of the stock to be equal to its current trend. In other words if the stock is going up, this person will think it will go up again and vise versa. This is actually a very solid baseline as it's very reminiscent of the real life. This is has something to do with the topic of behaviorl finance[12] but it's outside the scope of this project."
   ]
  },
  {
   "cell_type": "code",
   "execution_count": 19,
   "id": "ed0dcc7c",
   "metadata": {},
   "outputs": [
    {
     "data": {
      "text/plain": [
       "0.5239005736137667"
      ]
     },
     "execution_count": 19,
     "metadata": {},
     "output_type": "execute_result"
    }
   ],
   "source": [
    "# this can be accomplished easily by shifting the close column forward by 1\n",
    "common_sense = df1['Trend'].shift(1)\n",
    "\n",
    "# measure the average of when the common sense (naive) prediction will match the actual 'Trend'\n",
    "(common_sense == df1['Trend']).mean()"
   ]
  },
  {
   "cell_type": "markdown",
   "id": "4605f406",
   "metadata": {},
   "source": [
    "This means if a person make a prediction in this method, they will be 52% of the time correct!"
   ]
  },
  {
   "cell_type": "markdown",
   "id": "c625d48b",
   "metadata": {},
   "source": [
    "## Include the technical indicators\n",
    "Adding indictors to the dataframe is an essential steps in improving the model performce, as these will be consiered among the model features list and can have a massive benefits on the model performance.\n",
    "<br>\n",
    "There are two ways to include technoical indicators, we can do it manually, which will take a lost of time, and reseach, as well as it's more prone to mistakes. We can also utlize an existing library for this very purpose.\n",
    "<br>\n",
    "That's why we will be utilizing the pandas-ta library which not only includes most of the nessarry technical indicators we need to calculate, but it's also designed specifically to work on pandas dataframs which is ideal in our case."
   ]
  },
  {
   "cell_type": "markdown",
   "id": "d846554f",
   "metadata": {},
   "source": [
    "We will use pandas-ta to add all the technical indicators we want to the dataframe "
   ]
  },
  {
   "cell_type": "code",
   "execution_count": 20,
   "id": "4f29c92b",
   "metadata": {},
   "outputs": [],
   "source": [
    "#  we can easily check the available indicators in the pandas-ta library\n",
    "# help(df1.ta.indicators())"
   ]
  },
  {
   "cell_type": "markdown",
   "id": "9dc66b09",
   "metadata": {},
   "source": [
    "We notice there are a large list of indicators that we can add easily to our dataframe. This is important for the final report because all the indicators we might need are already available, so we can systematically study each one of them, add them to our features list, and test their impact on the model performance."
   ]
  },
  {
   "cell_type": "code",
   "execution_count": 21,
   "id": "d42af174",
   "metadata": {},
   "outputs": [],
   "source": [
    "#  we can also learn about any specific indicator like this\n",
    "# help(ta.macd)"
   ]
  },
  {
   "cell_type": "markdown",
   "id": "7ecf2049",
   "metadata": {},
   "source": [
    "For this prototype we will only consider few of the most common technical indicators that are used by analysts and ML models to make an estimation of the stock trend direction.\n",
    "These are MACD, RSI, SMA, and EMA.\n",
    "the ta.macd function also returns Signal, and Histogram values. so we will add those too."
   ]
  },
  {
   "cell_type": "code",
   "execution_count": 22,
   "id": "196b4f56",
   "metadata": {},
   "outputs": [],
   "source": [
    "# for the time being let's create a function that add all the technical indicators we want to a df\n",
    "def assign_TIs(_df):\n",
    "    # apply macd on the Close column in a df and add it to the dataframe    \n",
    "    mcda = ta.macd(_df[\"Close\"])\n",
    "    # The MACD (Moving Average Convergence/Divergence) is a popular indicator to that is used to identify a trend\n",
    "    _df.insert(6, \"MACD\", mcda[\"MACD_12_26_9\"])\n",
    "    # Signal is an EMA (exponential moving average) of MACD\n",
    "    _df.insert(7, \"Signal\", mcda[\"MACD_12_26_9\"])\n",
    "    # Histogram is the difference of MACD and Signal\n",
    "    _df.insert(8, \"Histogram\", mcda[\"MACD_12_26_9\"])\n",
    "    \n",
    "    # apply RSI on the Close column in a df and add it to the dataframe    \n",
    "    # RSI (Relative Strength Index) is popular momentum oscillator. Measures velocity and magnitude a trend\n",
    "    rsi = ta.rsi(_df[\"Close\"])\n",
    "    _df.insert(9, \"RSI\", rsi)\n",
    "    \n",
    "    # apply SMA on the Close column in a df and add it to the dataframe    \n",
    "    # SMA (Simple Moving Average) is the classic moving average that is the equally weighted average over n periods.\n",
    "    sma = ta.sma(_df[\"Close\"])\n",
    "    _df.insert(10, \"SMA\", sma)\n",
    "    \n",
    "    # apply EMA on the Close column in a df and add it to the dataframe    \n",
    "    # EMA (Exponential Moving Average). The weights are determined by alpha which is proportional to it's length.\n",
    "    ema = ta.ema(_df[\"Close\"])\n",
    "    _df.insert(11, \"EMA\", ema)\n",
    "    \n",
    "    return _df"
   ]
  },
  {
   "cell_type": "code",
   "execution_count": 23,
   "id": "9be89b69",
   "metadata": {},
   "outputs": [],
   "source": [
    "# apply the function to the dataframe\n",
    "df1 = assign_TIs(df1)"
   ]
  },
  {
   "cell_type": "code",
   "execution_count": 24,
   "id": "f6642b5e",
   "metadata": {},
   "outputs": [],
   "source": [
    "# drop the NaN values\n",
    "df1.dropna(inplace=True)"
   ]
  },
  {
   "cell_type": "code",
   "execution_count": 25,
   "id": "06cb5a3a",
   "metadata": {},
   "outputs": [],
   "source": [
    "# fix the 'Trend' data type to be int\n",
    "df1 = df1.astype({'Trend': int})"
   ]
  },
  {
   "cell_type": "code",
   "execution_count": 26,
   "id": "0c08fc78",
   "metadata": {
    "scrolled": true
   },
   "outputs": [
    {
     "data": {
      "text/html": [
       "<div>\n",
       "<style scoped>\n",
       "    .dataframe tbody tr th:only-of-type {\n",
       "        vertical-align: middle;\n",
       "    }\n",
       "\n",
       "    .dataframe tbody tr th {\n",
       "        vertical-align: top;\n",
       "    }\n",
       "\n",
       "    .dataframe thead th {\n",
       "        text-align: right;\n",
       "    }\n",
       "</style>\n",
       "<table border=\"1\" class=\"dataframe\">\n",
       "  <thead>\n",
       "    <tr style=\"text-align: right;\">\n",
       "      <th></th>\n",
       "      <th>Adj Close</th>\n",
       "      <th>Close</th>\n",
       "      <th>High</th>\n",
       "      <th>Low</th>\n",
       "      <th>Open</th>\n",
       "      <th>Volume</th>\n",
       "      <th>MACD</th>\n",
       "      <th>Signal</th>\n",
       "      <th>Histogram</th>\n",
       "      <th>RSI</th>\n",
       "      <th>SMA</th>\n",
       "      <th>EMA</th>\n",
       "      <th>Next</th>\n",
       "      <th>Trend</th>\n",
       "    </tr>\n",
       "    <tr>\n",
       "      <th>Date</th>\n",
       "      <th></th>\n",
       "      <th></th>\n",
       "      <th></th>\n",
       "      <th></th>\n",
       "      <th></th>\n",
       "      <th></th>\n",
       "      <th></th>\n",
       "      <th></th>\n",
       "      <th></th>\n",
       "      <th></th>\n",
       "      <th></th>\n",
       "      <th></th>\n",
       "      <th></th>\n",
       "      <th></th>\n",
       "    </tr>\n",
       "  </thead>\n",
       "  <tbody>\n",
       "    <tr>\n",
       "      <th>2015-01-05</th>\n",
       "      <td>21.509281</td>\n",
       "      <td>30.977230</td>\n",
       "      <td>31.024668</td>\n",
       "      <td>29.421251</td>\n",
       "      <td>29.743834</td>\n",
       "      <td>149756432</td>\n",
       "      <td>0.987145</td>\n",
       "      <td>0.987145</td>\n",
       "      <td>0.987145</td>\n",
       "      <td>64.138291</td>\n",
       "      <td>29.636622</td>\n",
       "      <td>29.674931</td>\n",
       "      <td>31.119545</td>\n",
       "      <td>1</td>\n",
       "    </tr>\n",
       "    <tr>\n",
       "      <th>2015-01-12</th>\n",
       "      <td>21.608099</td>\n",
       "      <td>31.119545</td>\n",
       "      <td>31.527514</td>\n",
       "      <td>30.474382</td>\n",
       "      <td>30.996204</td>\n",
       "      <td>145315401</td>\n",
       "      <td>1.041722</td>\n",
       "      <td>1.041722</td>\n",
       "      <td>1.041722</td>\n",
       "      <td>64.864548</td>\n",
       "      <td>29.909867</td>\n",
       "      <td>29.937588</td>\n",
       "      <td>30.787476</td>\n",
       "      <td>0</td>\n",
       "    </tr>\n",
       "    <tr>\n",
       "      <th>2015-01-19</th>\n",
       "      <td>21.377520</td>\n",
       "      <td>30.787476</td>\n",
       "      <td>31.783682</td>\n",
       "      <td>30.407970</td>\n",
       "      <td>31.280834</td>\n",
       "      <td>138244854</td>\n",
       "      <td>1.046121</td>\n",
       "      <td>1.046121</td>\n",
       "      <td>1.046121</td>\n",
       "      <td>61.723513</td>\n",
       "      <td>30.110057</td>\n",
       "      <td>30.092113</td>\n",
       "      <td>29.648956</td>\n",
       "      <td>0</td>\n",
       "    </tr>\n",
       "    <tr>\n",
       "      <th>2015-01-26</th>\n",
       "      <td>20.586981</td>\n",
       "      <td>29.648956</td>\n",
       "      <td>31.641365</td>\n",
       "      <td>29.601519</td>\n",
       "      <td>30.806452</td>\n",
       "      <td>180924897</td>\n",
       "      <td>0.946823</td>\n",
       "      <td>0.946823</td>\n",
       "      <td>0.946823</td>\n",
       "      <td>52.361419</td>\n",
       "      <td>30.185958</td>\n",
       "      <td>30.011539</td>\n",
       "      <td>31.470589</td>\n",
       "      <td>1</td>\n",
       "    </tr>\n",
       "    <tr>\n",
       "      <th>2015-02-02</th>\n",
       "      <td>21.851845</td>\n",
       "      <td>31.470589</td>\n",
       "      <td>31.707781</td>\n",
       "      <td>29.430740</td>\n",
       "      <td>29.829222</td>\n",
       "      <td>197528769</td>\n",
       "      <td>1.003551</td>\n",
       "      <td>1.003551</td>\n",
       "      <td>1.003551</td>\n",
       "      <td>62.232156</td>\n",
       "      <td>30.377609</td>\n",
       "      <td>30.276821</td>\n",
       "      <td>32.865276</td>\n",
       "      <td>1</td>\n",
       "    </tr>\n",
       "  </tbody>\n",
       "</table>\n",
       "</div>"
      ],
      "text/plain": [
       "            Adj Close      Close       High        Low       Open     Volume  \\\n",
       "Date                                                                           \n",
       "2015-01-05  21.509281  30.977230  31.024668  29.421251  29.743834  149756432   \n",
       "2015-01-12  21.608099  31.119545  31.527514  30.474382  30.996204  145315401   \n",
       "2015-01-19  21.377520  30.787476  31.783682  30.407970  31.280834  138244854   \n",
       "2015-01-26  20.586981  29.648956  31.641365  29.601519  30.806452  180924897   \n",
       "2015-02-02  21.851845  31.470589  31.707781  29.430740  29.829222  197528769   \n",
       "\n",
       "                MACD    Signal  Histogram        RSI        SMA        EMA  \\\n",
       "Date                                                                         \n",
       "2015-01-05  0.987145  0.987145   0.987145  64.138291  29.636622  29.674931   \n",
       "2015-01-12  1.041722  1.041722   1.041722  64.864548  29.909867  29.937588   \n",
       "2015-01-19  1.046121  1.046121   1.046121  61.723513  30.110057  30.092113   \n",
       "2015-01-26  0.946823  0.946823   0.946823  52.361419  30.185958  30.011539   \n",
       "2015-02-02  1.003551  1.003551   1.003551  62.232156  30.377609  30.276821   \n",
       "\n",
       "                 Next  Trend  \n",
       "Date                          \n",
       "2015-01-05  31.119545      1  \n",
       "2015-01-12  30.787476      0  \n",
       "2015-01-19  29.648956      0  \n",
       "2015-01-26  31.470589      1  \n",
       "2015-02-02  32.865276      1  "
      ]
     },
     "execution_count": 26,
     "metadata": {},
     "output_type": "execute_result"
    }
   ],
   "source": [
    "# check the dataframe\n",
    "df1.head(5)"
   ]
  },
  {
   "cell_type": "code",
   "execution_count": 27,
   "id": "12c95983",
   "metadata": {},
   "outputs": [
    {
     "data": {
      "text/plain": [
       "(493, 14)"
      ]
     },
     "execution_count": 27,
     "metadata": {},
     "output_type": "execute_result"
    }
   ],
   "source": [
    "# the shape of the data now\n",
    "df1.shape"
   ]
  },
  {
   "cell_type": "markdown",
   "id": "33a1c81f",
   "metadata": {},
   "source": [
    "##  Prepare the data for training"
   ]
  },
  {
   "cell_type": "markdown",
   "id": "d752b4d9",
   "metadata": {},
   "source": [
    "We start by removing the unnecessary columns, only 'Date' for now."
   ]
  },
  {
   "cell_type": "code",
   "execution_count": 28,
   "id": "0e754f58",
   "metadata": {
    "scrolled": true
   },
   "outputs": [],
   "source": [
    "# reset the index\n",
    "df1.reset_index(inplace = True)\n",
    "\n",
    "# drop the Date column as it's not necessary for now\n",
    "df1.drop(['Date'], axis=1, inplace=True)\n",
    "\n",
    "# df1.head(5)"
   ]
  },
  {
   "cell_type": "markdown",
   "id": "78338437",
   "metadata": {},
   "source": [
    "Create the features list, for now we will use every column except the last two."
   ]
  },
  {
   "cell_type": "code",
   "execution_count": 29,
   "id": "92f30be4",
   "metadata": {},
   "outputs": [
    {
     "data": {
      "text/html": [
       "<div>\n",
       "<style scoped>\n",
       "    .dataframe tbody tr th:only-of-type {\n",
       "        vertical-align: middle;\n",
       "    }\n",
       "\n",
       "    .dataframe tbody tr th {\n",
       "        vertical-align: top;\n",
       "    }\n",
       "\n",
       "    .dataframe thead th {\n",
       "        text-align: right;\n",
       "    }\n",
       "</style>\n",
       "<table border=\"1\" class=\"dataframe\">\n",
       "  <thead>\n",
       "    <tr style=\"text-align: right;\">\n",
       "      <th></th>\n",
       "      <th>Adj Close</th>\n",
       "      <th>Close</th>\n",
       "      <th>High</th>\n",
       "      <th>Low</th>\n",
       "      <th>Open</th>\n",
       "      <th>Volume</th>\n",
       "      <th>MACD</th>\n",
       "      <th>Signal</th>\n",
       "      <th>Histogram</th>\n",
       "      <th>RSI</th>\n",
       "      <th>SMA</th>\n",
       "      <th>EMA</th>\n",
       "    </tr>\n",
       "  </thead>\n",
       "  <tbody>\n",
       "    <tr>\n",
       "      <th>0</th>\n",
       "      <td>21.509281</td>\n",
       "      <td>30.977230</td>\n",
       "      <td>31.024668</td>\n",
       "      <td>29.421251</td>\n",
       "      <td>29.743834</td>\n",
       "      <td>149756432</td>\n",
       "      <td>0.987145</td>\n",
       "      <td>0.987145</td>\n",
       "      <td>0.987145</td>\n",
       "      <td>64.138291</td>\n",
       "      <td>29.636622</td>\n",
       "      <td>29.674931</td>\n",
       "    </tr>\n",
       "    <tr>\n",
       "      <th>1</th>\n",
       "      <td>21.608099</td>\n",
       "      <td>31.119545</td>\n",
       "      <td>31.527514</td>\n",
       "      <td>30.474382</td>\n",
       "      <td>30.996204</td>\n",
       "      <td>145315401</td>\n",
       "      <td>1.041722</td>\n",
       "      <td>1.041722</td>\n",
       "      <td>1.041722</td>\n",
       "      <td>64.864548</td>\n",
       "      <td>29.909867</td>\n",
       "      <td>29.937588</td>\n",
       "    </tr>\n",
       "  </tbody>\n",
       "</table>\n",
       "</div>"
      ],
      "text/plain": [
       "   Adj Close      Close       High        Low       Open     Volume      MACD  \\\n",
       "0  21.509281  30.977230  31.024668  29.421251  29.743834  149756432  0.987145   \n",
       "1  21.608099  31.119545  31.527514  30.474382  30.996204  145315401  1.041722   \n",
       "\n",
       "     Signal  Histogram        RSI        SMA        EMA  \n",
       "0  0.987145   0.987145  64.138291  29.636622  29.674931  \n",
       "1  1.041722   1.041722  64.864548  29.909867  29.937588  "
      ]
     },
     "execution_count": 29,
     "metadata": {},
     "output_type": "execute_result"
    }
   ],
   "source": [
    "# The features list\n",
    "X1 = df1.iloc[:, :-2]\n",
    "\n",
    "X1.head(2)"
   ]
  },
  {
   "cell_type": "markdown",
   "id": "9c49ad9a",
   "metadata": {},
   "source": [
    "Create the target, which is the 'Trend' column for now."
   ]
  },
  {
   "cell_type": "code",
   "execution_count": 30,
   "id": "e4ba5d46",
   "metadata": {},
   "outputs": [],
   "source": [
    "# The Target (Trend for now)\n",
    "y1 = df1.iloc[:, -1]"
   ]
  },
  {
   "cell_type": "markdown",
   "id": "b687bfc9",
   "metadata": {},
   "source": [
    "Scaling numerical data is an important step before training machine learning models as it reduces the impact of outliers on the output of the model, giving us more accurate predictions.\n",
    "<br>\n",
    "\n",
    "Since the features are all numercial data, we can scale them easily to a value in the range of 0 to 1 using scikit-learn minmax scaler."
   ]
  },
  {
   "cell_type": "code",
   "execution_count": 31,
   "id": "fe76212e",
   "metadata": {},
   "outputs": [],
   "source": [
    "# initialize a MinMaxScaler instance for a range between 0 and 1\n",
    "scaler = MinMaxScaler(feature_range=(0, 1))\n",
    "\n",
    "# pass the features to the scaler\n",
    "scaled_X1 = scaler.fit_transform(X1)\n",
    "\n",
    "# scaled_X1"
   ]
  },
  {
   "cell_type": "markdown",
   "id": "d3f0dc82",
   "metadata": {},
   "source": [
    "Now How are we going to actually predict the trend of a stock for the next week? For now we are going to look back at the last 6 weeks and make a prediction based on that. This is how we are going to train the model therefore we need to reshape the data to be in a sequence of 6 timesteps, (6 rows of data). This is a necessary step for RNN models as the input data need to have the shape of (samples, timesteps, number of features)"
   ]
  },
  {
   "cell_type": "code",
   "execution_count": 32,
   "id": "4b7f83a2",
   "metadata": {},
   "outputs": [],
   "source": [
    "# source of isnpiration: https://stackoverflow.com/questions/47945512/how-to-reshape-input-for-keras-lstm?rq=4 [13]\n",
    "# create a function to reshape X and y into sequences of x timesteps\n",
    "def create_seqs(features, target, num_rows):\n",
    "    # create 2 empty lists to store the newly shaped features and target lists\n",
    "    X, y = [], []\n",
    "    \n",
    "    # iterate over the features\n",
    "    for i in range(len(features) - num_rows):\n",
    "        # create indexes of the start and end of each sequence\n",
    "        seq_s = i\n",
    "        seq_e = i + num_rows\n",
    "        \n",
    "        # the ith sequence will be a slice of the features between the indexes, create it and add it to X\n",
    "        xi = features[seq_s : seq_e]\n",
    "        X.append(xi)\n",
    "        \n",
    "        # do the same for the target and add it to y\n",
    "        yi = target[seq_e]\n",
    "        y.append(yi)\n",
    "    \n",
    "    # return the X and y as numpy arraies\n",
    "    return np.array(X), np.array(y)"
   ]
  },
  {
   "cell_type": "code",
   "execution_count": 33,
   "id": "ed950d06",
   "metadata": {},
   "outputs": [],
   "source": [
    "# Create sequences\n",
    "timesteps = 6\n",
    "X_seq1, y_seq1 = create_seqs(scaled_X1, y1, timesteps)"
   ]
  },
  {
   "cell_type": "code",
   "execution_count": 34,
   "id": "d2a4b21a",
   "metadata": {},
   "outputs": [
    {
     "data": {
      "text/plain": [
       "((487, 6, 12), (487,))"
      ]
     },
     "execution_count": 34,
     "metadata": {},
     "output_type": "execute_result"
    }
   ],
   "source": [
    "# check the new shapes for the features and labels sets\n",
    "X_seq1.shape, y_seq1.shape"
   ]
  },
  {
   "cell_type": "code",
   "execution_count": 35,
   "id": "c2494c92",
   "metadata": {},
   "outputs": [],
   "source": [
    "# source: https://www.tensorflow.org/api_docs/python/tf/keras/utils/to_categorical [14]\n",
    "# use to_categorical from tf to converts the target (Trend) to binary class matrix\n",
    "y_seq1 = to_categorical(y_seq1)"
   ]
  },
  {
   "cell_type": "markdown",
   "id": "3ae42574",
   "metadata": {},
   "source": [
    "Devide the data into a training set and a test set in 70-30 ratio"
   ]
  },
  {
   "cell_type": "code",
   "execution_count": 36,
   "id": "cd148e07",
   "metadata": {},
   "outputs": [],
   "source": [
    "#  sets the training test ratio to be 70-30\n",
    "training_ratio = int(len(X_seq1) * 0.7)\n",
    "\n",
    "# # split the data into training and test\n",
    "X1_train, X1_test = X_seq1[:training_ratio], X_seq1[training_ratio:]\n",
    "y1_train, y1_test = y_seq1[:training_ratio], y_seq1[training_ratio:]"
   ]
  },
  {
   "cell_type": "code",
   "execution_count": 37,
   "id": "c814361c",
   "metadata": {},
   "outputs": [
    {
     "data": {
      "text/plain": [
       "((340, 6, 12), (147, 6, 12))"
      ]
     },
     "execution_count": 37,
     "metadata": {},
     "output_type": "execute_result"
    }
   ],
   "source": [
    "X1_train.shape, X1_test.shape"
   ]
  },
  {
   "cell_type": "markdown",
   "id": "ad683f49",
   "metadata": {},
   "source": [
    "## Create and train the baseline classification model\n",
    "The base line model will be SimpleRNN (simple Recurrent Neural Network) classification model with 3 layers. Input layer, hidden layer both with 64 neurons, and output layer.\n",
    "The output layer activation function will be 'softmax', and the model optimizer will be 'adam' for now."
   ]
  },
  {
   "cell_type": "code",
   "execution_count": 38,
   "id": "879f3446",
   "metadata": {},
   "outputs": [],
   "source": [
    "# source of inspiration: François Chollet (11, 2017), “Deep Learning with Python” chapter 6 [8]\n",
    "# construct the model\n",
    "def create_model():\n",
    "    # initialize a sequential model\n",
    "    model = Sequential()\n",
    "    \n",
    "    # add the model layers\n",
    "    model.add(SimpleRNN(64, input_shape=(timesteps, X1_train.shape[2]), return_sequences=True))\n",
    "    model.add(SimpleRNN(64, return_sequences=False))\n",
    "    model.add(Dense(2, activation='softmax'))\n",
    "\n",
    "    # compile the model\n",
    "    model.compile(optimizer='adam', loss='categorical_crossentropy', metrics=['accuracy'])\n",
    "    \n",
    "    return model"
   ]
  },
  {
   "cell_type": "code",
   "execution_count": 76,
   "id": "3b71800e",
   "metadata": {},
   "outputs": [],
   "source": [
    "# initialize the model\n",
    "model1 = create_model()"
   ]
  },
  {
   "cell_type": "code",
   "execution_count": 77,
   "id": "59131a4a",
   "metadata": {},
   "outputs": [],
   "source": [
    "# get the model weights before training\n",
    "# model1.get_weights()"
   ]
  },
  {
   "cell_type": "code",
   "execution_count": 78,
   "id": "1753a6b0",
   "metadata": {},
   "outputs": [],
   "source": [
    "# train the model\n",
    "history = model1.fit(X1_train, y1_train, validation_split=0.2, epochs=50, batch_size=32, verbose=0)"
   ]
  },
  {
   "cell_type": "markdown",
   "id": "8081324d",
   "metadata": {},
   "source": [
    "## Model evaluation and prototype conclusion"
   ]
  },
  {
   "cell_type": "code",
   "execution_count": 79,
   "id": "24a05e36",
   "metadata": {},
   "outputs": [
    {
     "name": "stdout",
     "output_type": "stream",
     "text": [
      "5/5 - 0s - 5ms/step - accuracy: 0.4898 - loss: 0.8150\n"
     ]
    },
    {
     "data": {
      "text/plain": [
       "[0.8149715065956116, 0.4897959232330322]"
      ]
     },
     "execution_count": 79,
     "metadata": {},
     "output_type": "execute_result"
    }
   ],
   "source": [
    "# test the model accuracy\n",
    "model1.evaluate(X1_test, y1_test, verbose=2)"
   ]
  },
  {
   "cell_type": "markdown",
   "id": "ebf58bb0",
   "metadata": {},
   "source": [
    "Training this model takes only few seconds, and the accuracy after initialising and training the model few times we sometimes get an accuracy score that matches our common sense base line or slightly beat it, we can tell it's already higher than IBRAHIM KARATAS(2023)[7] work.\n",
    "<br>\n",
    "\n",
    "We can also confirm this by getting the precision and f1-score."
   ]
  },
  {
   "cell_type": "code",
   "execution_count": 43,
   "id": "365437ca",
   "metadata": {},
   "outputs": [
    {
     "name": "stdout",
     "output_type": "stream",
     "text": [
      "\u001b[1m5/5\u001b[0m \u001b[32m━━━━━━━━━━━━━━━━━━━━\u001b[0m\u001b[37m\u001b[0m \u001b[1m1s\u001b[0m 113ms/step\n",
      "Precision: 0.4063392532585553\n",
      "Recall: 0.43537414965986393\n",
      "F-score: 0.3375315532190131\n"
     ]
    }
   ],
   "source": [
    "# get predictions from the model given the test set\n",
    "y1_pred = model1.predict(X1_test)\n",
    "\n",
    "# source of inspiration: https://stackoverflow.com/questions/48987959/classification-metrics-cant-handle-a-mix-of-continuous-multioutput-and-multi-la [15]\n",
    "# convert the predictions and test set to be in the shape of a vector of labels\n",
    "y1_pred_labels = np.argmax(y1_pred, axis=1)\n",
    "y1_test_labels = np.argmax(y1_test, axis=1)\n",
    "\n",
    "# get precision, recall, and fscore\n",
    "precision, recall, fscore, support = precision_recall_fscore_support(y1_test_labels, y1_pred_labels, average='weighted')\n",
    "print(\"Precision:\", precision)\n",
    "print(\"Recall:\", recall)\n",
    "print(\"F-score:\", fscore)"
   ]
  },
  {
   "cell_type": "markdown",
   "id": "18d44535",
   "metadata": {},
   "source": [
    "Display the confusion matrix."
   ]
  },
  {
   "cell_type": "code",
   "execution_count": 44,
   "id": "4e69b551",
   "metadata": {},
   "outputs": [
    {
     "data": {
      "image/png": "[encoded data removed]",
      "text/plain": [
       "<Figure size 640x480 with 2 Axes>"
      ]
     },
     "metadata": {},
     "output_type": "display_data"
    }
   ],
   "source": [
    "# source of inspiration: https://scikit-learn.org/stable/modules/generated/sklearn.metrics.ConfusionMatrixDisplay.html [16]\n",
    "conf_mat = confusion_matrix(y1_test_labels, y1_pred_labels)\n",
    "disp = ConfusionMatrixDisplay(conf_mat)\n",
    "disp.plot()\n",
    "plt.show()"
   ]
  },
  {
   "cell_type": "markdown",
   "id": "498e0e25",
   "metadata": {},
   "source": [
    "Looking at the following plot, we can see that we are hitting the vanishing returns point before we reach the 15th epoch, this means increasing the epochs will not help us at this point."
   ]
  },
  {
   "cell_type": "code",
   "execution_count": 45,
   "id": "7cfa765b",
   "metadata": {},
   "outputs": [
    {
     "data": {
      "image/png": "[encoded data removed]",
      "text/plain": [
       "<Figure size 640x480 with 1 Axes>"
      ]
     },
     "metadata": {},
     "output_type": "display_data"
    }
   ],
   "source": [
    "# source of the code snippet[17]\n",
    "loss = history.history['loss']\n",
    "val_loss = history.history['val_loss']\n",
    "\n",
    "epochs = range(1, len(loss) + 1)\n",
    "\n",
    "plt.figure()\n",
    "\n",
    "plt.plot(epochs, loss, 'bo', label='Training loss')\n",
    "plt.plot(epochs, val_loss, 'b', label='Validation loss')\n",
    "plt.title('Training and validation loss')\n",
    "plt.legend()\n",
    "\n",
    "plt.show()"
   ]
  },
  {
   "cell_type": "code",
   "execution_count": 46,
   "id": "5d8642dc",
   "metadata": {},
   "outputs": [],
   "source": [
    "# get the model summary\n",
    "# model1.summary()"
   ]
  },
  {
   "cell_type": "code",
   "execution_count": 47,
   "id": "8d4c5e47",
   "metadata": {},
   "outputs": [],
   "source": [
    "# get the model compile configurations\n",
    "# model1.get_compile_config()"
   ]
  },
  {
   "cell_type": "code",
   "execution_count": 48,
   "id": "46976c7a",
   "metadata": {},
   "outputs": [],
   "source": [
    "# get the model configurations after training\n",
    "# model1.get_config()"
   ]
  },
  {
   "cell_type": "code",
   "execution_count": 49,
   "id": "8683e9c6",
   "metadata": {},
   "outputs": [],
   "source": [
    "# get the model weights after training\n",
    "# model1.get_weights()"
   ]
  },
  {
   "cell_type": "markdown",
   "id": "a2d9d407",
   "metadata": {},
   "source": [
    "Get a prediction from the model given the last 6 weeks. This is to simulate how a user would get a prediction from the model. The input will be the last entry in the test set."
   ]
  },
  {
   "cell_type": "code",
   "execution_count": 50,
   "id": "6b697c7a",
   "metadata": {},
   "outputs": [
    {
     "name": "stdout",
     "output_type": "stream",
     "text": [
      "\u001b[1m1/1\u001b[0m \u001b[32m━━━━━━━━━━━━━━━━━━━━\u001b[0m\u001b[37m\u001b[0m \u001b[1m0s\u001b[0m 42ms/step\n",
      "Trend: 1,  Confidence: 0.6283513307571411\n"
     ]
    }
   ],
   "source": [
    "# reshape the input so it have the shape (1, 6, 12) which what the model expect as input\n",
    "_input = X1_test[-1].reshape(1, X1_test.shape[1], X1_test.shape[2])\n",
    "pred = model1.predict(_input)\n",
    "print(f\"Trend: {np.argmax(pred)}, \",f\"Confidence: {np.max(pred)}\")"
   ]
  },
  {
   "cell_type": "markdown",
   "id": "a3e9898e",
   "metadata": {},
   "source": [
    "From here, we can start iteratively building more accurate models. The final product should look like the following snippet, where users interact with the model through a dictionary of dictionaries. Each dictionary includes the associated models and their functionalities for a given stock symbol."
   ]
  },
  {
   "cell_type": "code",
   "execution_count": 51,
   "id": "f4d922e5",
   "metadata": {},
   "outputs": [],
   "source": [
    "# this is just an example for iillustrative purposes\n",
    "# {\n",
    "#     'PFE': \n",
    "#     {\n",
    "#         'classification_model': {'model': model1, 'interval': 'week', 'predict_function':model1_predict}, \n",
    "#         'regression_model': {'model': None, 'interval': 'week', 'predict_function':None}\n",
    "#     }, \n",
    "# }"
   ]
  },
  {
   "cell_type": "code",
   "execution_count": 70,
   "id": "6253947f",
   "metadata": {},
   "outputs": [],
   "source": [
    "# construct the model\n",
    "def create_LSTM_model():\n",
    "    # initialize a sequential model\n",
    "    model = Sequential()\n",
    "    \n",
    "    # add the model layers\n",
    "#     model.add(LSTM(64, input_shape=(timesteps, X1_train.shape[2]), return_sequences=True))\n",
    "    model.add(Input(shape=(timesteps, X1_train.shape[2])))\n",
    "    model.add(LSTM(64, return_sequences=True))\n",
    "    \n",
    "    model.add(LSTM(64, return_sequences=False))\n",
    "    \n",
    "    model.add(Dense(2, activation='softmax'))\n",
    "\n",
    "    # compile the model\n",
    "    model.compile(optimizer='adam', loss='categorical_crossentropy', metrics=['accuracy'])\n",
    "    \n",
    "    return model"
   ]
  },
  {
   "cell_type": "code",
   "execution_count": 71,
   "id": "e3ba00ca",
   "metadata": {
    "scrolled": true
   },
   "outputs": [
    {
     "name": "stdout",
     "output_type": "stream",
     "text": [
      "5/5 - 0s - 6ms/step - accuracy: 0.4694 - loss: 0.8165\n",
      "\u001b[1m5/5\u001b[0m \u001b[32m━━━━━━━━━━━━━━━━━━━━\u001b[0m\u001b[37m\u001b[0m \u001b[1m0s\u001b[0m 55ms/step\n",
      "Precision: 0.4980145904515652\n",
      "Recall: 0.46938775510204084\n",
      "F-score: 0.3811198721913007\n"
     ]
    },
    {
     "data": {
      "image/png": "[encoded data removed]",
      "text/plain": [
       "<Figure size 640x480 with 2 Axes>"
      ]
     },
     "metadata": {},
     "output_type": "display_data"
    },
    {
     "data": {
      "image/png": "[encoded data removed]",
      "text/plain": [
       "<Figure size 640x480 with 1 Axes>"
      ]
     },
     "metadata": {},
     "output_type": "display_data"
    }
   ],
   "source": [
    "# initialize the model\n",
    "model1 = create_LSTM_model()\n",
    "\n",
    "# train the model\n",
    "history = model1.fit(X1_train, y1_train, validation_split=0.2, epochs=50, batch_size=32, verbose=0)\n",
    "\n",
    "# test the model accuracy\n",
    "model1.evaluate(X1_test, y1_test, verbose=2)\n",
    "\n",
    "# get predictions from the model given the test set\n",
    "y1_pred = model1.predict(X1_test)\n",
    "\n",
    "# source of inspiration: https://stackoverflow.com/questions/48987959/classification-metrics-cant-handle-a-mix-of-continuous-multioutput-and-multi-la [15]\n",
    "# convert the predictions and test set to be in the shape of a vector of labels\n",
    "y1_pred_labels = np.argmax(y1_pred, axis=1)\n",
    "y1_test_labels = np.argmax(y1_test, axis=1)\n",
    "\n",
    "# get precision, recall, and fscore\n",
    "precision, recall, fscore, support = precision_recall_fscore_support(y1_test_labels, y1_pred_labels, average='weighted')\n",
    "print(\"Precision:\", precision)\n",
    "print(\"Recall:\", recall)\n",
    "print(\"F-score:\", fscore)\n",
    "\n",
    "# source of inspiration: https://scikit-learn.org/stable/modules/generated/sklearn.metrics.ConfusionMatrixDisplay.html [16]\n",
    "conf_mat = confusion_matrix(y1_test_labels, y1_pred_labels)\n",
    "disp = ConfusionMatrixDisplay(conf_mat)\n",
    "disp.plot()\n",
    "plt.show()\n",
    "\n",
    "# source of the code snippet[17]\n",
    "loss = history.history['loss']\n",
    "val_loss = history.history['val_loss']\n",
    "\n",
    "epochs = range(1, len(loss) + 1)\n",
    "\n",
    "plt.figure()\n",
    "\n",
    "plt.plot(epochs, loss, 'bo', label='Training loss')\n",
    "plt.plot(epochs, val_loss, 'b', label='Validation loss')\n",
    "plt.title('Training and validation loss')\n",
    "plt.legend()\n",
    "\n",
    "plt.show()"
   ]
  },
  {
   "cell_type": "code",
   "execution_count": 101,
   "id": "31454bb6",
   "metadata": {},
   "outputs": [],
   "source": [
    "# construct the model\n",
    "def create_GRU_model():\n",
    "    # initialize a sequential model\n",
    "    model = Sequential()\n",
    "    \n",
    "    # add the model layers\n",
    "    model.add(Input(shape=(timesteps, X1_train.shape[2])))\n",
    "    \n",
    "    model.add(GRU(32,\n",
    "                     dropout=0.1,\n",
    "                     recurrent_dropout=0.5,\n",
    "                     return_sequences=True))\n",
    "    model.add(GRU(64, activation='relu',\n",
    "                     dropout=0.1,\n",
    "                     recurrent_dropout=0.5))\n",
    "    \n",
    "    model.add(Dense(2, activation='softmax'))\n",
    "\n",
    "\n",
    "\n",
    "    # compile the model\n",
    "    model.compile(optimizer='adam', loss='categorical_crossentropy', metrics=['accuracy'])\n",
    "    \n",
    "    return model"
   ]
  },
  {
   "cell_type": "code",
   "execution_count": 81,
   "id": "15e92302",
   "metadata": {},
   "outputs": [
    {
     "name": "stdout",
     "output_type": "stream",
     "text": [
      "5/5 - 0s - 6ms/step - accuracy: 0.4626 - loss: 0.7122\n",
      "\u001b[1m5/5\u001b[0m \u001b[32m━━━━━━━━━━━━━━━━━━━━\u001b[0m\u001b[37m\u001b[0m \u001b[1m1s\u001b[0m 182ms/step\n",
      "Precision: 0.2139849136933685\n",
      "Recall: 0.46258503401360546\n",
      "F-score: 0.2926119284923272\n"
     ]
    },
    {
     "name": "stderr",
     "output_type": "stream",
     "text": [
      "C:\\Users\\ammaroAsus\\anaconda3\\Lib\\site-packages\\sklearn\\metrics\\_classification.py:1469: UndefinedMetricWarning: Precision and F-score are ill-defined and being set to 0.0 in labels with no predicted samples. Use `zero_division` parameter to control this behavior.\n",
      "  _warn_prf(average, modifier, msg_start, len(result))\n"
     ]
    },
    {
     "data": {
      "image/png": "[encoded data removed]",
      "text/plain": [
       "<Figure size 640x480 with 2 Axes>"
      ]
     },
     "metadata": {},
     "output_type": "display_data"
    },
    {
     "data": {
      "image/png": "[encoded data removed]",
      "text/plain": [
       "<Figure size 640x480 with 1 Axes>"
      ]
     },
     "metadata": {},
     "output_type": "display_data"
    }
   ],
   "source": [
    "# initialize the model\n",
    "model1 = create_GRU_model()\n",
    "\n",
    "# train the model\n",
    "history = model1.fit(X1_train, y1_train, validation_split=0.2, epochs=50, batch_size=32, verbose=0)\n",
    "\n",
    "# test the model accuracy\n",
    "model1.evaluate(X1_test, y1_test, verbose=2)\n",
    "\n",
    "# get predictions from the model given the test set\n",
    "y1_pred = model1.predict(X1_test)\n",
    "\n",
    "# source of inspiration: https://stackoverflow.com/questions/48987959/classification-metrics-cant-handle-a-mix-of-continuous-multioutput-and-multi-la [15]\n",
    "# convert the predictions and test set to be in the shape of a vector of labels\n",
    "y1_pred_labels = np.argmax(y1_pred, axis=1)\n",
    "y1_test_labels = np.argmax(y1_test, axis=1)\n",
    "\n",
    "# get precision, recall, and fscore\n",
    "precision, recall, fscore, support = precision_recall_fscore_support(y1_test_labels, y1_pred_labels, average='weighted')\n",
    "print(\"Precision:\", precision)\n",
    "print(\"Recall:\", recall)\n",
    "print(\"F-score:\", fscore)\n",
    "\n",
    "# source of inspiration: https://scikit-learn.org/stable/modules/generated/sklearn.metrics.ConfusionMatrixDisplay.html [16]\n",
    "conf_mat = confusion_matrix(y1_test_labels, y1_pred_labels)\n",
    "disp = ConfusionMatrixDisplay(conf_mat)\n",
    "disp.plot()\n",
    "plt.show()\n",
    "\n",
    "# source of the code snippet[17]\n",
    "loss = history.history['loss']\n",
    "val_loss = history.history['val_loss']\n",
    "\n",
    "epochs = range(1, len(loss) + 1)\n",
    "\n",
    "plt.figure()\n",
    "\n",
    "plt.plot(epochs, loss, 'bo', label='Training loss')\n",
    "plt.plot(epochs, val_loss, 'b', label='Validation loss')\n",
    "plt.title('Training and validation loss')\n",
    "plt.legend()\n",
    "\n",
    "plt.show()"
   ]
  },
  {
   "cell_type": "code",
   "execution_count": null,
   "id": "186abd83",
   "metadata": {},
   "outputs": [],
   "source": []
  },
  {
   "cell_type": "code",
   "execution_count": null,
   "id": "530aa5ae",
   "metadata": {},
   "outputs": [],
   "source": []
  },
  {
   "cell_type": "code",
   "execution_count": 83,
   "id": "bf2b9dd1",
   "metadata": {},
   "outputs": [],
   "source": [
    "# The Target (Next for now)\n",
    "y1_reg = df1.iloc[:, -2]\n",
    "\n",
    "# Create sequences\n",
    "timesteps = 6\n",
    "X_seq1_reg, y_seq1_reg = create_seqs(scaled_X1, y1_reg, timesteps)\n",
    "\n",
    "# # split the data into training and test\n",
    "X1_train_reg, X1_test_reg = X_seq1_reg[:training_ratio], X_seq1_reg[training_ratio:]\n",
    "y1_train_reg, y1_test_reg = y_seq1_reg[:training_ratio], y_seq1_reg[training_ratio:]"
   ]
  },
  {
   "cell_type": "code",
   "execution_count": 96,
   "id": "4feb9c12",
   "metadata": {},
   "outputs": [],
   "source": [
    "# construct the model\n",
    "def create_SimpleRNN_Reg_model():\n",
    "    # initialize a sequential model\n",
    "    model = Sequential()\n",
    "    \n",
    "    # add the model layers\n",
    "#     model.add(LSTM(64, input_shape=(timesteps, X1_train.shape[2]), return_sequences=True))\n",
    "    model.add(Input(shape=(timesteps, X1_train.shape[2])))\n",
    "    model.add(SimpleRNN(64, return_sequences=True))\n",
    "    \n",
    "    model.add(SimpleRNN(64, return_sequences=False))\n",
    "    \n",
    "    model.add(Dense(1))\n",
    "\n",
    "    # compile the model\n",
    "    model.compile(optimizer='adam', loss='mean_squared_error', metrics=['mae'])\n",
    "    \n",
    "    return model"
   ]
  },
  {
   "cell_type": "code",
   "execution_count": 97,
   "id": "23f38e6c",
   "metadata": {},
   "outputs": [
    {
     "name": "stdout",
     "output_type": "stream",
     "text": [
      "5/5 - 0s - 5ms/step - loss: 220.8594 - mae: 12.0989\n",
      "\u001b[1m5/5\u001b[0m \u001b[32m━━━━━━━━━━━━━━━━━━━━\u001b[0m\u001b[37m\u001b[0m \u001b[1m0s\u001b[0m 39ms/step\n"
     ]
    },
    {
     "data": {
      "image/png": "[encoded data removed]",
      "text/plain": [
       "<Figure size 640x480 with 1 Axes>"
      ]
     },
     "metadata": {},
     "output_type": "display_data"
    }
   ],
   "source": [
    "# initialize the model\n",
    "model1 = create_SimpleRNN_Reg_model()\n",
    "\n",
    "# train the model\n",
    "history = model1.fit(X1_train_reg, y1_train_reg, validation_split=0.2, epochs=50, batch_size=32, verbose=0)\n",
    "\n",
    "# test the model accuracy\n",
    "model1.evaluate(X1_test_reg, y1_test_reg, verbose=2)\n",
    "\n",
    "# get predictions from the model given the test set\n",
    "y1_pred = model1.predict(X1_test_reg)\n",
    "\n",
    "# source of the code snippet[17]\n",
    "loss = history.history['loss']\n",
    "val_loss = history.history['val_loss']\n",
    "\n",
    "epochs = range(1, len(loss) + 1)\n",
    "\n",
    "plt.figure()\n",
    "\n",
    "plt.plot(epochs, loss, 'bo', label='Training loss')\n",
    "plt.plot(epochs, val_loss, 'b', label='Validation loss')\n",
    "plt.title('Training and validation loss')\n",
    "plt.legend()\n",
    "\n",
    "plt.show()"
   ]
  },
  {
   "cell_type": "code",
   "execution_count": 84,
   "id": "9e1c41aa",
   "metadata": {},
   "outputs": [],
   "source": [
    "# construct the model\n",
    "def create_LSTM_Reg_model():\n",
    "    # initialize a sequential model\n",
    "    model = Sequential()\n",
    "    \n",
    "    # add the model layers\n",
    "#     model.add(LSTM(64, input_shape=(timesteps, X1_train.shape[2]), return_sequences=True))\n",
    "    model.add(Input(shape=(timesteps, X1_train.shape[2])))\n",
    "    model.add(LSTM(64, return_sequences=True))\n",
    "    \n",
    "    model.add(LSTM(64, return_sequences=False))\n",
    "    \n",
    "    model.add(Dense(1))\n",
    "\n",
    "    # compile the model\n",
    "    model.compile(optimizer='adam', loss='mean_squared_error', metrics=['mae'])\n",
    "    \n",
    "    return model"
   ]
  },
  {
   "cell_type": "code",
   "execution_count": 95,
   "id": "11e34e96",
   "metadata": {},
   "outputs": [
    {
     "name": "stdout",
     "output_type": "stream",
     "text": [
      "5/5 - 0s - 6ms/step - loss: 187.9494 - mae: 11.3211\n",
      "\u001b[1m5/5\u001b[0m \u001b[32m━━━━━━━━━━━━━━━━━━━━\u001b[0m\u001b[37m\u001b[0m \u001b[1m0s\u001b[0m 51ms/step\n"
     ]
    },
    {
     "data": {
      "image/png": "[encoded data removed]",
      "text/plain": [
       "<Figure size 640x480 with 1 Axes>"
      ]
     },
     "metadata": {},
     "output_type": "display_data"
    }
   ],
   "source": [
    "# initialize the model\n",
    "model1 = create_LSTM_Reg_model()\n",
    "\n",
    "# train the model\n",
    "history = model1.fit(X1_train_reg, y1_train_reg, validation_split=0.2, epochs=50, batch_size=32, verbose=0)\n",
    "\n",
    "# test the model accuracy\n",
    "model1.evaluate(X1_test_reg, y1_test_reg, verbose=2)\n",
    "\n",
    "# get predictions from the model given the test set\n",
    "y1_pred = model1.predict(X1_test_reg)\n",
    "\n",
    "# source of the code snippet[17]\n",
    "loss = history.history['loss']\n",
    "val_loss = history.history['val_loss']\n",
    "\n",
    "epochs = range(1, len(loss) + 1)\n",
    "\n",
    "plt.figure()\n",
    "\n",
    "plt.plot(epochs, loss, 'bo', label='Training loss')\n",
    "plt.plot(epochs, val_loss, 'b', label='Validation loss')\n",
    "plt.title('Training and validation loss')\n",
    "plt.legend()\n",
    "\n",
    "plt.show()"
   ]
  },
  {
   "cell_type": "code",
   "execution_count": 99,
   "id": "d6efcc91",
   "metadata": {},
   "outputs": [],
   "source": [
    "# construct the model\n",
    "def create_GRU_Reg_model():\n",
    "    # initialize a sequential model\n",
    "    model = Sequential()\n",
    "    \n",
    "    # add the model layers\n",
    "    model.add(Input(shape=(timesteps, X1_train.shape[2])))\n",
    "    \n",
    "    model.add(GRU(32,\n",
    "                     dropout=0.1,\n",
    "                     recurrent_dropout=0.5,\n",
    "                     return_sequences=True))\n",
    "    model.add(GRU(64, activation='relu',\n",
    "                     dropout=0.1,\n",
    "                     recurrent_dropout=0.5))\n",
    "    \n",
    "    model.add(Dense(1))\n",
    "\n",
    "\n",
    "\n",
    "    # compile the model\n",
    "    model.compile(optimizer='adam', loss='mean_squared_error', metrics=['mae'])\n",
    "    \n",
    "    return model"
   ]
  },
  {
   "cell_type": "code",
   "execution_count": 100,
   "id": "f3a7b1eb",
   "metadata": {},
   "outputs": [
    {
     "name": "stdout",
     "output_type": "stream",
     "text": [
      "5/5 - 0s - 5ms/step - loss: 1071.5216 - mae: 31.3921\n",
      "\u001b[1m5/5\u001b[0m \u001b[32m━━━━━━━━━━━━━━━━━━━━\u001b[0m\u001b[37m\u001b[0m \u001b[1m1s\u001b[0m 82ms/step\n"
     ]
    },
    {
     "data": {
      "image/png": "[encoded data removed]",
      "text/plain": [
       "<Figure size 640x480 with 1 Axes>"
      ]
     },
     "metadata": {},
     "output_type": "display_data"
    }
   ],
   "source": [
    "# initialize the model\n",
    "model1 = create_GRU_Reg_model()\n",
    "\n",
    "# train the model\n",
    "history = model1.fit(X1_train_reg, y1_train_reg, validation_split=0.2, epochs=50, batch_size=32, verbose=0)\n",
    "\n",
    "# test the model accuracy\n",
    "model1.evaluate(X1_test_reg, y1_test_reg, verbose=2)\n",
    "\n",
    "# get predictions from the model given the test set\n",
    "y1_pred = model1.predict(X1_test_reg)\n",
    "\n",
    "# source of the code snippet[17]\n",
    "loss = history.history['loss']\n",
    "val_loss = history.history['val_loss']\n",
    "\n",
    "epochs = range(1, len(loss) + 1)\n",
    "\n",
    "plt.figure()\n",
    "\n",
    "plt.plot(epochs, loss, 'bo', label='Training loss')\n",
    "plt.plot(epochs, val_loss, 'b', label='Validation loss')\n",
    "plt.title('Training and validation loss')\n",
    "plt.legend()\n",
    "\n",
    "plt.show()"
   ]
  },
  {
   "cell_type": "code",
   "execution_count": 103,
   "id": "a9941736",
   "metadata": {},
   "outputs": [
    {
     "data": {
      "text/plain": [
       "0.2997846088845988"
      ]
     },
     "execution_count": 103,
     "metadata": {},
     "output_type": "execute_result"
    }
   ],
   "source": [
    "# the average value for the closing price to judge weather the mae is acceptable or not \n",
    "df1['Close'].mean()"
   ]
  },
  {
   "cell_type": "code",
   "execution_count": null,
   "id": "a70a868f",
   "metadata": {},
   "outputs": [],
   "source": []
  }
 ],
 "metadata": {
  "kernelspec": {
   "display_name": "Python 3 (ipykernel)",
   "language": "python",
   "name": "python3"
  },
  "language_info": {
   "codemirror_mode": {
    "name": "ipython",
    "version": 3
   },
   "file_extension": ".py",
   "mimetype": "text/x-python",
   "name": "python",
   "nbconvert_exporter": "python",
   "pygments_lexer": "ipython3",
   "version": "3.11.5"
  }
 },
 "nbformat": 4,
 "nbformat_minor": 5
}
